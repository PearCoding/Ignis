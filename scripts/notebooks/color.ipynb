{
 "cells": [
  {
   "cell_type": "code",
   "execution_count": 14,
   "metadata": {},
   "outputs": [],
   "source": [
    "# sRGB primaries\n",
    "CIE_R_X = 0.64\n",
    "CIE_R_Y = 0.33\n",
    "CIE_G_X = 0.30 # Radiance software uses PAL Rec.601 standard with 0.29\n",
    "CIE_G_Y = 0.60\n",
    "CIE_B_X = 0.15\n",
    "CIE_B_Y = 0.06\n",
    "\n",
    "CIE_E_X = 1/3\n",
    "CIE_E_Y = 1/3\n",
    "CIE_D65_X = 0.31272 # CIE 1931 2°\n",
    "CIE_D65_Y = 0.32903 # CIE 1931 2°"
   ]
  },
  {
   "cell_type": "code",
   "execution_count": 15,
   "metadata": {},
   "outputs": [
    {
     "name": "stdout",
     "output_type": "stream",
     "text": [
      "0.3333 | 0.3333\n",
      "CIE_D   = 0.2268\n",
      "CIE_R_C = 0.1822\n",
      "CIE_G_C = 0.2533\n",
      "CIE_B_C = 0.2449\n",
      "CIE_R_f = 0.2651\n",
      "CIE_G_f = 0.6701\n",
      "CIE_B_f = 0.0648\n",
      "\n",
      "0.3127 | 0.3290\n",
      "CIE_D   = 0.2268\n",
      "CIE_R_C = 0.1526\n",
      "CIE_G_C = 0.2671\n",
      "CIE_B_C = 0.2696\n",
      "CIE_R_f = 0.2220\n",
      "CIE_G_f = 0.7067\n",
      "CIE_B_f = 0.0713\n"
     ]
    }
   ],
   "source": [
    "def compute_factors(w_x, w_y):\n",
    "    CIE_D = CIE_R_X*(CIE_G_Y - CIE_B_Y) + CIE_G_X*(CIE_B_Y - CIE_R_Y) + CIE_B_X*(CIE_R_Y - CIE_G_Y)\n",
    "    CIE_R_C = (w_x*(CIE_G_Y - CIE_B_Y) - w_y*(CIE_G_X - CIE_B_X) + CIE_G_X*CIE_B_Y - CIE_B_X*CIE_G_Y) / w_y\n",
    "    CIE_G_C = (w_x*(CIE_B_Y - CIE_R_Y) - w_y*(CIE_B_X - CIE_R_X) - CIE_R_X*CIE_B_Y + CIE_B_X*CIE_R_Y) / w_y\n",
    "    CIE_B_C = (w_x*(CIE_R_Y - CIE_G_Y) - w_y*(CIE_R_X - CIE_G_X) + CIE_R_X*CIE_G_Y - CIE_G_X*CIE_R_Y) / w_y\n",
    "\n",
    "    CIE_R_f = CIE_R_Y * CIE_R_C / CIE_D\n",
    "    CIE_G_f = CIE_G_Y * CIE_G_C / CIE_D\n",
    "    CIE_B_f = CIE_B_Y * CIE_B_C / CIE_D\n",
    "\n",
    "    print(\"CIE_D   = {:.4f}\".format(CIE_D))\n",
    "    print(\"CIE_R_C = {:.4f}\".format(CIE_R_C))\n",
    "    print(\"CIE_G_C = {:.4f}\".format(CIE_G_C))\n",
    "    print(\"CIE_B_C = {:.4f}\".format(CIE_B_C))\n",
    "    print(\"CIE_R_f = {:.4f}\".format(CIE_R_f))\n",
    "    print(\"CIE_G_f = {:.4f}\".format(CIE_G_f))\n",
    "    print(\"CIE_B_f = {:.4f}\".format(CIE_B_f))\n",
    "\n",
    "print(\"{:.4f} | {:.4f}\".format(CIE_E_X, CIE_E_Y))\n",
    "compute_factors(CIE_E_X, CIE_E_Y)\n",
    "\n",
    "print()\n",
    "print(\"{:.4f} | {:.4f}\".format(CIE_D65_X, CIE_D65_Y))\n",
    "compute_factors(CIE_D65_X, CIE_D65_Y)"
   ]
  },
  {
   "cell_type": "code",
   "execution_count": null,
   "metadata": {},
   "outputs": [],
   "source": []
  }
 ],
 "metadata": {
  "kernelspec": {
   "display_name": "Python 3",
   "language": "python",
   "name": "python3"
  },
  "language_info": {
   "codemirror_mode": {
    "name": "ipython",
    "version": 3
   },
   "file_extension": ".py",
   "mimetype": "text/x-python",
   "name": "python",
   "nbconvert_exporter": "python",
   "pygments_lexer": "ipython3",
   "version": "3.10.12"
  }
 },
 "nbformat": 4,
 "nbformat_minor": 2
}
