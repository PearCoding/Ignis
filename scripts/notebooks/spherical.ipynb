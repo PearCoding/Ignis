{
 "cells": [
  {
   "cell_type": "code",
   "execution_count": 1,
   "metadata": {},
   "outputs": [],
   "source": [
    "import numpy as np"
   ]
  },
  {
   "cell_type": "code",
   "execution_count": 13,
   "metadata": {},
   "outputs": [
    {
     "name": "stdout",
     "output_type": "stream",
     "text": [
      "[-0.19611614 -0.58834841  0.78446454]\n",
      "-1.892546881191539\n",
      "0.6689640742684072 4.3906384259880475\n",
      "-0.19611613513818413 -0.5883484054145521 0.7844645405527361\n"
     ]
    }
   ],
   "source": [
    "dir = np.asarray([-0.1, -0.3, 0.4])\n",
    "dir /= np.linalg.norm(dir)\n",
    "\n",
    "print(dir)\n",
    "\n",
    "theta = np.arccos(dir[2])\n",
    "phi = np.arctan2(dir[1], dir[0])\n",
    "if phi < 0:\n",
    "    phi += 2 * np.pi\n",
    "\n",
    "print(theta, phi)\n",
    "\n",
    "s = np.sin(theta)\n",
    "c = np.cos(theta)\n",
    "\n",
    "x = s * np.cos(phi)\n",
    "y = s * np.sin(phi)\n",
    "z = c\n",
    "\n",
    "print(x,y,z)"
   ]
  },
  {
   "cell_type": "code",
   "execution_count": null,
   "metadata": {},
   "outputs": [],
   "source": []
  }
 ],
 "metadata": {
  "kernelspec": {
   "display_name": "Python 3",
   "language": "python",
   "name": "python3"
  },
  "language_info": {
   "codemirror_mode": {
    "name": "ipython",
    "version": 3
   },
   "file_extension": ".py",
   "mimetype": "text/x-python",
   "name": "python",
   "nbconvert_exporter": "python",
   "pygments_lexer": "ipython3",
   "version": "3.10.12"
  }
 },
 "nbformat": 4,
 "nbformat_minor": 2
}
